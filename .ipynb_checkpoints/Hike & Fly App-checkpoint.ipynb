{
 "cells": [
  {
   "cell_type": "markdown",
   "id": "326a5b80",
   "metadata": {},
   "source": [
    "# Hike & Fly Performance App\n",
    "This is the start of a small project which is designed to create a hike \\& fly application which would create an advantage in competitions. It is a form of \"McCready\" for an entire competition, where the best strategy for a set of way points can be selected.\n",
    "The algorithm for this is based on a series of assumptions and has multiple layers to it. They are all prototyped in this project folder.\n",
    "## Description of the problem:\n",
    "The input for the algorithm is the following:\n",
    "1. A topographical map of the region to be flown in\n",
    "2. A series of waypoints that have to be flown in order.\n",
    "3. Weather data, in particular information about ceilings and average thermals\n",
    "4. Athlete's data (data necessary to determine the speed of running depending on the altitude, carried equipment, etc.\n",
    "At its core, the output is supposed to be a path to follow (fly + run). This can be improved in the future by adding showing a family of routes depending on the time and probability of success of each.\n",
    "\n",
    "### Assumptions for the first version of the App:\n",
    "1. Launch spots are known in advance\n",
    "2. The ceiling is uniform around the flying area\n",
    "3. Thermals are only found at a given height above the ground\n",
    "4. Location of thermals: in the first version of the algorithm, it is assumed that thermals may be found everywhere. As the algorithm gets more sophisticated, this model will be improved upon.\n",
    "\n",
    "## Overall Architecture:\n",
    "The overall architecture is the following:\n",
    "1. Given the terrain (paths and take-off points), the transit times for each segment are calculated using models for running performance or path-planning for a paraglider flight. \n",
    "2. The shortest path is calculated from a network of points using an algorithm such as Djikstra or A*.\n",
    "\n",
    "## Toy Problem:\n",
    "At first, we define a toy problem in order to test some of the assumptions and research some of the models. This also allows to start experimenting.\n",
    "### Topographical Data:\n",
    "At first, we use a meshgrid in python for this, were we generate a fake mountain range we want to travers in Hike & Fly. This is done using a collection of X,Y,Z points (meshgrid), and adding a series of gaussians to model mountains, ridges and valleys.\n",
    "We do this in a separate python script that just generates topographical data. Here it is just displayed."
   ]
  },
  {
   "cell_type": "code",
   "execution_count": 38,
   "id": "6fb5b979",
   "metadata": {},
   "outputs": [
    {
     "ename": "NameError",
     "evalue": "name 'filename' is not defined",
     "output_type": "error",
     "traceback": [
      "\u001b[0;31m---------------------------------------------------------------------------\u001b[0m",
      "\u001b[0;31mNameError\u001b[0m                                 Traceback (most recent call last)",
      "\u001b[0;32m<ipython-input-38-afd395bdc396>\u001b[0m in \u001b[0;36m<module>\u001b[0;34m\u001b[0m\n\u001b[1;32m      1\u001b[0m \u001b[0;32mimport\u001b[0m \u001b[0mpickle\u001b[0m\u001b[0;34m\u001b[0m\u001b[0;34m\u001b[0m\u001b[0m\n\u001b[0;32m----> 2\u001b[0;31m \u001b[0minfile\u001b[0m \u001b[0;34m=\u001b[0m \u001b[0mopen\u001b[0m\u001b[0;34m(\u001b[0m\u001b[0mfilename\u001b[0m\u001b[0;34m,\u001b[0m\u001b[0;34m'rb'\u001b[0m\u001b[0;34m)\u001b[0m\u001b[0;34m\u001b[0m\u001b[0;34m\u001b[0m\u001b[0m\n\u001b[0m\u001b[1;32m      3\u001b[0m \u001b[0mtopo\u001b[0m \u001b[0;34m=\u001b[0m \u001b[0mpickle\u001b[0m\u001b[0;34m.\u001b[0m\u001b[0mload\u001b[0m\u001b[0;34m(\u001b[0m\u001b[0minfile\u001b[0m\u001b[0;34m)\u001b[0m\u001b[0;34m\u001b[0m\u001b[0;34m\u001b[0m\u001b[0m\n\u001b[1;32m      4\u001b[0m \u001b[0minfile\u001b[0m\u001b[0;34m.\u001b[0m\u001b[0mclose\u001b[0m\u001b[0;34m(\u001b[0m\u001b[0;34m)\u001b[0m\u001b[0;34m\u001b[0m\u001b[0;34m\u001b[0m\u001b[0m\n\u001b[1;32m      5\u001b[0m \u001b[0mX\u001b[0m \u001b[0;34m=\u001b[0m \u001b[0mtopo\u001b[0m\u001b[0;34m[\u001b[0m\u001b[0;34m'X'\u001b[0m\u001b[0;34m]\u001b[0m\u001b[0;34m\u001b[0m\u001b[0;34m\u001b[0m\u001b[0m\n",
      "\u001b[0;31mNameError\u001b[0m: name 'filename' is not defined"
     ]
    }
   ],
   "source": [
    "import pickle\n",
    "filename = 'dogs'\n",
    "infile = open(filename,'rb')\n",
    "topo = pickle.load(infile)\n",
    "infile.close()\n",
    "X = topo['X']\n",
    "Y = topo['Y']\n",
    "Z = topo['Z'] \n",
    "\n",
    "# plot using subplots\n",
    "fig = plt.figure()\n",
    "#ax1 = fig.add_subplot(1,1,1,projection='3d')\n",
    "ax1 = plt.axes(projection='3d')\n",
    "\n",
    "ax1.plot_surface(X, Y, Z, rstride=3, cstride=3, linewidth=1, antialiased=True,\n",
    "                cmap=cm.viridis)\n",
    "#ax1.view_init(55,-70)\n",
    "#ax1.set_xticks([])\n",
    "#ax1.set_yticks([])\n",
    "#ax1.set_zticks([])\n",
    "ax1.set_xlabel(r'$x_1$')\n",
    "ax1.set_ylabel(r'$x_2$')\n",
    "\n",
    "plt.rcParams[\"figure.figsize\"]=10,10\n",
    "plt.show()"
   ]
  },
  {
   "cell_type": "code",
   "execution_count": null,
   "id": "6263a221",
   "metadata": {},
   "outputs": [],
   "source": []
  }
 ],
 "metadata": {
  "kernelspec": {
   "display_name": "Python 3",
   "language": "python",
   "name": "python3"
  },
  "language_info": {
   "codemirror_mode": {
    "name": "ipython",
    "version": 3
   },
   "file_extension": ".py",
   "mimetype": "text/x-python",
   "name": "python",
   "nbconvert_exporter": "python",
   "pygments_lexer": "ipython3",
   "version": "3.6.9"
  }
 },
 "nbformat": 4,
 "nbformat_minor": 5
}
